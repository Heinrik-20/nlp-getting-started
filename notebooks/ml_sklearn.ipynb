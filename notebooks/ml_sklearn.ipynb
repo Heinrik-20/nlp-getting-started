{
 "cells": [
  {
   "cell_type": "code",
   "execution_count": 1,
   "metadata": {},
   "outputs": [],
   "source": [
    "import os, sys\n",
    "import pandas as pd\n",
    "\n",
    "# Train test splitting and performance\n",
    "from sklearn.metrics import classification_report\n",
    "from sklearn.model_selection import train_test_split\n",
    "\n",
    "# Machine Learning\n",
    "from sklearn.svm import SVC\n",
    "from sklearn.gaussian_process import GaussianProcessClassifier\n",
    "from sklearn.ensemble import RandomForestClassifier, AdaBoostClassifier, StackingClassifier\n",
    "from lightgbm.sklearn import LGBMClassifier\n",
    "\n",
    "SEED = 100\n",
    "\n",
    "train_df = pd.read_parquet(\"../data/sentence_train.pq\")\n",
    "X, y = train_df.drop(columns=['target']).to_numpy(), train_df['target'].to_numpy()\n",
    "X_train, X_test, y_train, y_test = train_test_split(X, y, random_state=SEED, stratify=train_df['target'])"
   ]
  },
  {
   "cell_type": "code",
   "execution_count": 3,
   "metadata": {},
   "outputs": [
    {
     "name": "stdout",
     "output_type": "stream",
     "text": [
      " ----- LightGBM -----\n",
      "              precision    recall  f1-score   support\n",
      "\n",
      "           0       0.80      0.87      0.84      1086\n",
      "           1       0.81      0.72      0.76       818\n",
      "\n",
      "    accuracy                           0.80      1904\n",
      "   macro avg       0.80      0.79      0.80      1904\n",
      "weighted avg       0.80      0.80      0.80      1904\n",
      "\n"
     ]
    }
   ],
   "source": [
    "lgbm = LGBMClassifier(verbosity=-1, random_state=SEED)\n",
    "lgbm.fit(X=X_train, y=y_train)\n",
    "y_pred = lgbm.predict(X_test)\n",
    "print(\" ----- LightGBM -----\")\n",
    "print(classification_report(y_true=y_test, y_pred=y_pred))"
   ]
  },
  {
   "cell_type": "code",
   "execution_count": 6,
   "metadata": {},
   "outputs": [
    {
     "name": "stdout",
     "output_type": "stream",
     "text": [
      " ----- Random Forest -----\n",
      "              precision    recall  f1-score   support\n",
      "\n",
      "           0       0.78      0.90      0.84      1086\n",
      "           1       0.83      0.66      0.74       818\n",
      "\n",
      "    accuracy                           0.80      1904\n",
      "   macro avg       0.81      0.78      0.79      1904\n",
      "weighted avg       0.80      0.80      0.79      1904\n",
      "\n"
     ]
    }
   ],
   "source": [
    "rf = RandomForestClassifier(random_state=SEED)\n",
    "rf.fit(X=X_train, y=y_train)\n",
    "y_pred = rf.predict(X_test)\n",
    "print(\" ----- Random Forest -----\")\n",
    "print(classification_report(y_true=y_test, y_pred=y_pred))"
   ]
  },
  {
   "cell_type": "code",
   "execution_count": 7,
   "metadata": {},
   "outputs": [
    {
     "name": "stdout",
     "output_type": "stream",
     "text": [
      " ----- SVM -----\n",
      "              precision    recall  f1-score   support\n",
      "\n",
      "           0       0.81      0.89      0.85      1086\n",
      "           1       0.83      0.72      0.77       818\n",
      "\n",
      "    accuracy                           0.82      1904\n",
      "   macro avg       0.82      0.80      0.81      1904\n",
      "weighted avg       0.82      0.82      0.81      1904\n",
      "\n"
     ]
    }
   ],
   "source": [
    "svm = SVC(random_state=SEED)\n",
    "svm.fit(X=X_train, y=y_train)\n",
    "y_pred = svm.predict(X_test)\n",
    "print(\" ----- SVM -----\")\n",
    "print(classification_report(y_true=y_test, y_pred=y_pred))"
   ]
  },
  {
   "cell_type": "code",
   "execution_count": 8,
   "metadata": {},
   "outputs": [
    {
     "name": "stdout",
     "output_type": "stream",
     "text": [
      " ----- GPC -----\n",
      "              precision    recall  f1-score   support\n",
      "\n",
      "           0       0.80      0.86      0.83      1086\n",
      "           1       0.79      0.71      0.75       818\n",
      "\n",
      "    accuracy                           0.80      1904\n",
      "   macro avg       0.79      0.79      0.79      1904\n",
      "weighted avg       0.80      0.80      0.79      1904\n",
      "\n"
     ]
    }
   ],
   "source": [
    "gpc = GaussianProcessClassifier(random_state=SEED)\n",
    "gpc.fit(X=X_train, y=y_train)\n",
    "y_pred = gpc.predict(X_test)\n",
    "print(\" ----- GPC -----\")\n",
    "print(classification_report(y_true=y_test, y_pred=y_pred))"
   ]
  },
  {
   "cell_type": "code",
   "execution_count": 2,
   "metadata": {},
   "outputs": [
    {
     "name": "stdout",
     "output_type": "stream",
     "text": [
      " ----- Stacking Classification -----\n",
      "              precision    recall  f1-score   support\n",
      "\n",
      "           0       0.80      0.87      0.83      1086\n",
      "           1       0.81      0.71      0.75       818\n",
      "\n",
      "    accuracy                           0.80      1904\n",
      "   macro avg       0.80      0.79      0.79      1904\n",
      "weighted avg       0.80      0.80      0.80      1904\n",
      "\n"
     ]
    }
   ],
   "source": [
    "ensemble = StackingClassifier(\n",
    "    estimators=[\n",
    "        ('rf', RandomForestClassifier(random_state=SEED)),\n",
    "        ('svm', SVC(random_state=SEED)),\n",
    "        ('gpc', GaussianProcessClassifier(random_state=SEED)),\n",
    "    ],\n",
    "    final_estimator=LGBMClassifier(verbosity=-1, random_state=SEED),\n",
    "    n_jobs=-1,\n",
    ")\n",
    "\n",
    "ensemble.fit(X=X_train, y=y_train)\n",
    "y_pred = ensemble.predict(X_test)\n",
    "print(\" ----- Stacking Classification -----\")\n",
    "print(classification_report(y_true=y_test, y_pred=y_pred))"
   ]
  }
 ],
 "metadata": {
  "kernelspec": {
   "display_name": "quant",
   "language": "python",
   "name": "python3"
  },
  "language_info": {
   "codemirror_mode": {
    "name": "ipython",
    "version": 3
   },
   "file_extension": ".py",
   "mimetype": "text/x-python",
   "name": "python",
   "nbconvert_exporter": "python",
   "pygments_lexer": "ipython3",
   "version": "3.10.9"
  }
 },
 "nbformat": 4,
 "nbformat_minor": 2
}
