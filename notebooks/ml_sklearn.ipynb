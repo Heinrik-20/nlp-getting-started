{
 "cells": [
  {
   "cell_type": "code",
   "execution_count": 1,
   "metadata": {},
   "outputs": [
    {
     "name": "stderr",
     "output_type": "stream",
     "text": [
      "[nltk_data] Downloading package stopwords to\n",
      "[nltk_data]     /Users/heinrikchoong/nltk_data...\n",
      "[nltk_data]   Package stopwords is already up-to-date!\n",
      "[nltk_data] Downloading package wordnet to\n",
      "[nltk_data]     /Users/heinrikchoong/nltk_data...\n",
      "[nltk_data]   Package wordnet is already up-to-date!\n"
     ]
    }
   ],
   "source": [
    "import pandas as pd\n",
    "import numpy as np\n",
    "import sys, os\n",
    "\n",
    "sys.path.append(os.getcwd() + \"/../\")\n",
    "\n",
    "from src.utils import generate_lda\n",
    "\n",
    "# Train test splitting and performance\n",
    "from sklearn.model_selection import train_test_split\n",
    "from sklearn.metrics import classification_report\n",
    "\n",
    "# Machine Learning\n",
    "from sklearn.linear_model import LogisticRegression\n",
    "from sklearn.svm import SVC\n",
    "from sklearn.gaussian_process import GaussianProcessClassifier\n",
    "from sklearn.ensemble import RandomForestClassifier, AdaBoostClassifier, StackingClassifier\n",
    "from lightgbm.sklearn import LGBMClassifier\n",
    "from xgboost.sklearn import XGBClassifier\n",
    "\n",
    "SEED = 100\n",
    "train_df, lda = generate_lda(seed=SEED)\n",
    "X_train, X_test, y_train, y_test = train_test_split(train_df.drop(columns=['target']), train_df['target'], stratify=train_df['target'])"
   ]
  },
  {
   "cell_type": "code",
   "execution_count": 2,
   "metadata": {},
   "outputs": [
    {
     "name": "stdout",
     "output_type": "stream",
     "text": [
      " ----- Logistic Regression -----\n",
      "              precision    recall  f1-score   support\n",
      "\n",
      "           0       0.63      0.87      0.73      1086\n",
      "           1       0.65      0.32      0.43       818\n",
      "\n",
      "    accuracy                           0.63      1904\n",
      "   macro avg       0.64      0.59      0.58      1904\n",
      "weighted avg       0.64      0.63      0.60      1904\n",
      "\n"
     ]
    }
   ],
   "source": [
    "lr = LogisticRegression(random_state=SEED)\n",
    "lr.fit(X=X_train, y=y_train)\n",
    "y_pred = lr.predict(X_test)\n",
    "print(\" ----- Logistic Regression -----\")\n",
    "print(classification_report(y_true=y_test, y_pred=y_pred))"
   ]
  },
  {
   "cell_type": "code",
   "execution_count": 3,
   "metadata": {},
   "outputs": [
    {
     "name": "stdout",
     "output_type": "stream",
     "text": [
      " ----- LightGBM -----\n",
      "              precision    recall  f1-score   support\n",
      "\n",
      "           0       0.68      0.82      0.75      1086\n",
      "           1       0.68      0.49      0.57       818\n",
      "\n",
      "    accuracy                           0.68      1904\n",
      "   macro avg       0.68      0.66      0.66      1904\n",
      "weighted avg       0.68      0.68      0.67      1904\n",
      "\n"
     ]
    }
   ],
   "source": [
    "lgbm = LGBMClassifier(verbosity=-1, random_state=SEED)\n",
    "lgbm.fit(X=X_train, y=y_train)\n",
    "y_pred = lgbm.predict(X_test)\n",
    "print(\" ----- LightGBM -----\")\n",
    "print(classification_report(y_true=y_test, y_pred=y_pred))"
   ]
  },
  {
   "cell_type": "code",
   "execution_count": 4,
   "metadata": {},
   "outputs": [
    {
     "name": "stdout",
     "output_type": "stream",
     "text": [
      " ----- XGBoost -----\n",
      "              precision    recall  f1-score   support\n",
      "\n",
      "           0       0.69      0.79      0.74      1086\n",
      "           1       0.65      0.53      0.59       818\n",
      "\n",
      "    accuracy                           0.68      1904\n",
      "   macro avg       0.67      0.66      0.66      1904\n",
      "weighted avg       0.68      0.68      0.67      1904\n",
      "\n"
     ]
    }
   ],
   "source": [
    "xgb = XGBClassifier(random_state=SEED)\n",
    "xgb.fit(X=X_train, y=y_train)\n",
    "y_pred = xgb.predict(X_test)\n",
    "print(\" ----- XGBoost -----\")\n",
    "print(classification_report(y_true=y_test, y_pred=y_pred))"
   ]
  },
  {
   "cell_type": "code",
   "execution_count": 5,
   "metadata": {},
   "outputs": [
    {
     "name": "stderr",
     "output_type": "stream",
     "text": [
      "/opt/homebrew/Caskroom/miniconda/base/envs/quant/lib/python3.10/site-packages/sklearn/ensemble/_weight_boosting.py:519: FutureWarning: The SAMME.R algorithm (the default) is deprecated and will be removed in 1.6. Use the SAMME algorithm to circumvent this warning.\n",
      "  warnings.warn(\n"
     ]
    },
    {
     "name": "stdout",
     "output_type": "stream",
     "text": [
      " ----- AdaBoost -----\n",
      "              precision    recall  f1-score   support\n",
      "\n",
      "           0       0.66      0.82      0.73      1086\n",
      "           1       0.64      0.44      0.53       818\n",
      "\n",
      "    accuracy                           0.66      1904\n",
      "   macro avg       0.65      0.63      0.63      1904\n",
      "weighted avg       0.65      0.66      0.64      1904\n",
      "\n"
     ]
    }
   ],
   "source": [
    "ada = AdaBoostClassifier(random_state=SEED)\n",
    "ada.fit(X=X_train, y=y_train)\n",
    "y_pred = ada.predict(X_test)\n",
    "print(\" ----- AdaBoost -----\")\n",
    "print(classification_report(y_true=y_test, y_pred=y_pred))"
   ]
  },
  {
   "cell_type": "code",
   "execution_count": 6,
   "metadata": {},
   "outputs": [
    {
     "name": "stdout",
     "output_type": "stream",
     "text": [
      " ----- Random Forest -----\n",
      "              precision    recall  f1-score   support\n",
      "\n",
      "           0       0.69      0.80      0.74      1086\n",
      "           1       0.66      0.53      0.59       818\n",
      "\n",
      "    accuracy                           0.68      1904\n",
      "   macro avg       0.68      0.66      0.66      1904\n",
      "weighted avg       0.68      0.68      0.67      1904\n",
      "\n"
     ]
    }
   ],
   "source": [
    "rf = RandomForestClassifier(random_state=SEED)\n",
    "rf.fit(X=X_train, y=y_train)\n",
    "y_pred = rf.predict(X_test)\n",
    "print(\" ----- Random Forest -----\")\n",
    "print(classification_report(y_true=y_test, y_pred=y_pred))"
   ]
  },
  {
   "cell_type": "code",
   "execution_count": 7,
   "metadata": {},
   "outputs": [
    {
     "name": "stdout",
     "output_type": "stream",
     "text": [
      " ----- SVM -----\n",
      "              precision    recall  f1-score   support\n",
      "\n",
      "           0       0.63      0.87      0.73      1086\n",
      "           1       0.66      0.32      0.43       818\n",
      "\n",
      "    accuracy                           0.64      1904\n",
      "   macro avg       0.64      0.60      0.58      1904\n",
      "weighted avg       0.64      0.64      0.60      1904\n",
      "\n"
     ]
    }
   ],
   "source": [
    "svm = SVC(random_state=SEED)\n",
    "svm.fit(X=X_train, y=y_train)\n",
    "y_pred = svm.predict(X_test)\n",
    "print(\" ----- SVM -----\")\n",
    "print(classification_report(y_true=y_test, y_pred=y_pred))"
   ]
  },
  {
   "cell_type": "code",
   "execution_count": 8,
   "metadata": {},
   "outputs": [
    {
     "name": "stdout",
     "output_type": "stream",
     "text": [
      " ----- GPC -----\n",
      "              precision    recall  f1-score   support\n",
      "\n",
      "           0       0.63      0.87      0.73      1086\n",
      "           1       0.65      0.33      0.43       818\n",
      "\n",
      "    accuracy                           0.63      1904\n",
      "   macro avg       0.64      0.60      0.58      1904\n",
      "weighted avg       0.64      0.63      0.60      1904\n",
      "\n"
     ]
    }
   ],
   "source": [
    "gpc = GaussianProcessClassifier(random_state=SEED)\n",
    "gpc.fit(X=X_train, y=y_train)\n",
    "y_pred = gpc.predict(X_test)\n",
    "print(\" ----- GPC -----\")\n",
    "print(classification_report(y_true=y_test, y_pred=y_pred))"
   ]
  },
  {
   "cell_type": "code",
   "execution_count": 9,
   "metadata": {},
   "outputs": [
    {
     "name": "stderr",
     "output_type": "stream",
     "text": [
      "/opt/homebrew/Caskroom/miniconda/base/envs/quant/lib/python3.10/site-packages/sklearn/ensemble/_weight_boosting.py:519: FutureWarning: The SAMME.R algorithm (the default) is deprecated and will be removed in 1.6. Use the SAMME algorithm to circumvent this warning.\n",
      "  warnings.warn(\n"
     ]
    },
    {
     "name": "stdout",
     "output_type": "stream",
     "text": [
      " ----- Stacking Classification -----\n",
      "              precision    recall  f1-score   support\n",
      "\n",
      "           0       0.65      0.71      0.68      1086\n",
      "           1       0.56      0.50      0.53       818\n",
      "\n",
      "    accuracy                           0.62      1904\n",
      "   macro avg       0.61      0.60      0.60      1904\n",
      "weighted avg       0.61      0.62      0.62      1904\n",
      "\n"
     ]
    }
   ],
   "source": [
    "ensemble = StackingClassifier(\n",
    "    estimators=[\n",
    "        ('lr', LogisticRegression(random_state=SEED)),\n",
    "        ('rf', RandomForestClassifier(random_state=SEED)),\n",
    "        ('svm', SVC(random_state=SEED)),\n",
    "        ('gpc', GaussianProcessClassifier(random_state=SEED)),\n",
    "    ],\n",
    "    final_estimator=AdaBoostClassifier(estimator=LGBMClassifier(verbosity=-1, random_state=SEED), random_state=SEED),\n",
    "    n_jobs=-1,\n",
    ")\n",
    "\n",
    "ensemble.fit(X=X_train, y=y_train)\n",
    "y_pred = ensemble.predict(X_test)\n",
    "print(\" ----- Stacking Classification -----\")\n",
    "print(classification_report(y_true=y_test, y_pred=y_pred))"
   ]
  }
 ],
 "metadata": {
  "kernelspec": {
   "display_name": "quant",
   "language": "python",
   "name": "python3"
  },
  "language_info": {
   "codemirror_mode": {
    "name": "ipython",
    "version": 3
   },
   "file_extension": ".py",
   "mimetype": "text/x-python",
   "name": "python",
   "nbconvert_exporter": "python",
   "pygments_lexer": "ipython3",
   "version": "3.10.9"
  }
 },
 "nbformat": 4,
 "nbformat_minor": 2
}
