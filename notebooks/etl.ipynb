{
 "cells": [
  {
   "cell_type": "code",
   "execution_count": 1,
   "metadata": {},
   "outputs": [
    {
     "name": "stderr",
     "output_type": "stream",
     "text": [
      "[nltk_data] Downloading package stopwords to\n",
      "[nltk_data]     /Users/heinrikchoong/nltk_data...\n",
      "[nltk_data]   Package stopwords is already up-to-date!\n",
      "[nltk_data] Downloading package wordnet to\n",
      "[nltk_data]     /Users/heinrikchoong/nltk_data...\n",
      "[nltk_data]   Package wordnet is already up-to-date!\n"
     ]
    },
    {
     "data": {
      "text/plain": [
       "True"
      ]
     },
     "execution_count": 1,
     "metadata": {},
     "output_type": "execute_result"
    }
   ],
   "source": [
    "import pandas as pd\n",
    "import numpy as np\n",
    "import re\n",
    "import string\n",
    "import nltk\n",
    "\n",
    "# Generating embeddings using an LDA model\n",
    "from gensim.corpora import Dictionary\n",
    "from gensim.models import LdaModel\n",
    "from nltk.stem.wordnet import WordNetLemmatizer\n",
    "\n",
    "train_df = pd.read_csv(\"../data/train.csv\")\n",
    "nltk.download('stopwords')\n",
    "nltk.download('wordnet')"
   ]
  },
  {
   "cell_type": "markdown",
   "metadata": {},
   "source": [
    "## Generating embeddings via LDA model"
   ]
  },
  {
   "cell_type": "markdown",
   "metadata": {},
   "source": [
    "The below few cells attempt to complete the following few steps\n",
    "1. Removing any non-alphanumeric characters\n",
    "2. Lemmatize the words\n",
    "3. Construct a dictionary of words to generate the Bag-of-words structure\n",
    "4. Train the LDA model\n",
    "5. Transform LDA fit back to dataframe for ML modelling"
   ]
  },
  {
   "cell_type": "code",
   "execution_count": 2,
   "metadata": {},
   "outputs": [],
   "source": [
    "url_regex = r\"https?:\\/\\/[-a-zA-Z0-9@:%._\\+~#=]{1,256}\\.[a-z]{2,4}\\/([-a-zA-Z0-9@:%_\\+.~#?&//=]*)\"\n",
    "non_alphanumeric = r\"[^a-zA-Z ]\"\n",
    "symbols = string.punctuation\n",
    "stopword_and_punctuations = set(nltk.corpus.stopwords.words('english')) | set(string.punctuation) | {''}"
   ]
  },
  {
   "cell_type": "code",
   "execution_count": 3,
   "metadata": {},
   "outputs": [],
   "source": [
    "corpus = train_df['text'].apply(lambda x: re.sub(url_regex, \"\", x)).apply(lambda x: re.sub(non_alphanumeric, \"\", x)).str.lower().to_list()\n",
    "cleaned = []\n",
    "target = train_df['target']\n",
    "lemmatizer = WordNetLemmatizer()\n",
    "for doc in corpus:\n",
    "    cleaned.append([lemmatizer.lemmatize(token.lower()) for token in doc.split(\" \") if token.lower() not in stopword_and_punctuations])"
   ]
  },
  {
   "cell_type": "code",
   "execution_count": 4,
   "metadata": {},
   "outputs": [],
   "source": [
    "del train_df"
   ]
  },
  {
   "cell_type": "code",
   "execution_count": 5,
   "metadata": {},
   "outputs": [
    {
     "name": "stdout",
     "output_type": "stream",
     "text": [
      "Number of unique tokens: 1358\n",
      "--------------------\n",
      "Number of documents: 7613\n"
     ]
    }
   ],
   "source": [
    "word_dict = Dictionary(cleaned)\n",
    "word_dict.filter_extremes(no_below=10, no_above=0.5)\n",
    "corpus = [word_dict.doc2bow(doc) for doc in cleaned]\n",
    "print('Number of unique tokens: %d' % len(word_dict))\n",
    "print(\"--------------------\")\n",
    "print('Number of documents: %d' % len(corpus))"
   ]
  },
  {
   "cell_type": "code",
   "execution_count": 6,
   "metadata": {},
   "outputs": [],
   "source": [
    "num_topics = 10\n",
    "chunksize = 3500\n",
    "passes = 5\n",
    "iterations = 400\n",
    "eval_every = None\n",
    "\n",
    "_ = word_dict[0]\n",
    "id2word = word_dict.id2token\n",
    "\n",
    "lda = LdaModel(\n",
    "    corpus=corpus,\n",
    "    id2word=id2word,\n",
    "    chunksize=chunksize,\n",
    "    alpha='auto',\n",
    "    eta='auto',\n",
    "    iterations=iterations,\n",
    "    num_topics=num_topics,\n",
    "    passes=passes,\n",
    "    eval_every=eval_every\n",
    ")"
   ]
  },
  {
   "cell_type": "code",
   "execution_count": 7,
   "metadata": {},
   "outputs": [],
   "source": [
    "columns = [f\"Topic {i}\" for i in range(num_topics)]\n",
    "values = []\n",
    "\n",
    "for topic_distr in lda.get_document_topics(corpus):\n",
    "    distri = []\n",
    "    i, j = 0, 0\n",
    "    topic_length = len(topic_distr)\n",
    "    while i < num_topics:\n",
    "        if topic_distr[j][0] != i:\n",
    "            distri.append(0)\n",
    "        else:\n",
    "            distri.append(topic_distr[j][1])\n",
    "            j = min(topic_length - 1, j + 1)\n",
    "        i += 1\n",
    "    values.append(distri)\n",
    "\n",
    "train_df = pd.DataFrame(data=values, columns=columns)\n",
    "train_df['target'] = target"
   ]
  }
 ],
 "metadata": {
  "kernelspec": {
   "display_name": "quant",
   "language": "python",
   "name": "python3"
  },
  "language_info": {
   "codemirror_mode": {
    "name": "ipython",
    "version": 3
   },
   "file_extension": ".py",
   "mimetype": "text/x-python",
   "name": "python",
   "nbconvert_exporter": "python",
   "pygments_lexer": "ipython3",
   "version": "3.10.9"
  }
 },
 "nbformat": 4,
 "nbformat_minor": 2
}
