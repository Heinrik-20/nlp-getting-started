{
 "cells": [
  {
   "cell_type": "code",
   "execution_count": 1,
   "metadata": {},
   "outputs": [
    {
     "name": "stderr",
     "output_type": "stream",
     "text": [
      "/opt/homebrew/Caskroom/miniconda/base/envs/quant/lib/python3.10/site-packages/tqdm/auto.py:21: TqdmWarning: IProgress not found. Please update jupyter and ipywidgets. See https://ipywidgets.readthedocs.io/en/stable/user_install.html\n",
      "  from .autonotebook import tqdm as notebook_tqdm\n"
     ]
    }
   ],
   "source": [
    "import optuna\n",
    "import pandas as pd\n",
    "import numpy as np\n",
    "\n",
    "from sklearn.model_selection import train_test_split\n",
    "from lightgbm.sklearn import LGBMClassifier\n",
    "from optuna.samplers import TPESampler\n",
    "\n",
    "SEED = 100\n",
    "NCALLS = 1000\n",
    "\n",
    "# 'svm': {\n",
    "#     'kernel': trial.suggest_categorical('svm__kernel', ['rbf', 'sigmoid']),\n",
    "#     'gamma': trial.suggest_float('svm__gamma', 1e-5, 1),\n",
    "#     'C': trial.suggest_float('svm__C', 1, 1e2),\n",
    "#     'epsilon': trial.suggest_float('svm__epsilon', 1e-1, 1e1),\n",
    "#     'max_iter': 20000,\n",
    "# },\n",
    "\n",
    "train_df = pd.read_parquet(\"../data/sentence_train.pq\")\n",
    "X, y = train_df.drop(columns=['target']).to_numpy(), train_df['target'].to_numpy().astype(np.int8)\n",
    "X_train, X_test, y_train, y_test = train_test_split(X, y, random_state=SEED, stratify=train_df['target'])"
   ]
  },
  {
   "cell_type": "code",
   "execution_count": 2,
   "metadata": {},
   "outputs": [],
   "source": [
    "def objective(trial):\n",
    "\n",
    "    def suggest_params():\n",
    "        return {\n",
    "            'n_estimators': trial.suggest_int('lgbm__n_estimators', 50, 100),\n",
    "            'max_depth': trial.suggest_int('lgbm__max_depth', 4, 50),\n",
    "            'min_child_weight': trial.suggest_int('lgbm__min_child_weight', 1, 6),\n",
    "            'learning_rate': trial.suggest_float('lgbm__learning_rate', 1e-5, 1),\n",
    "            'reg_alpha': trial.suggest_float('lgbm__reg_alpha', 0, 1e1),\n",
    "            'reg_lambda': trial.suggest_float('lgbm__reg_lambda', 0, 1e1),\n",
    "            'verbosity': -1,\n",
    "            'random_state': SEED\n",
    "        }\n",
    "    \n",
    "    def loss(y, y_pred):\n",
    "        return -np.sum((y * np.log(y_pred)) + (1 - y) * np.log(1 - y_pred))\n",
    "\n",
    "    params = suggest_params()\n",
    "\n",
    "    lgbm = LGBMClassifier(\n",
    "        **params\n",
    "    )\n",
    "\n",
    "    lgbm.fit(X_train, y_train)\n",
    "    y_pred = lgbm.predict_proba(X_test)[:,1]\n",
    "    \n",
    "    return loss(y_test, y_pred)"
   ]
  },
  {
   "cell_type": "code",
   "execution_count": 3,
   "metadata": {},
   "outputs": [
    {
     "name": "stderr",
     "output_type": "stream",
     "text": [
      "[I 2024-08-19 11:07:05,645] A new study created in memory with name: no-name-e59de698-9dad-4a15-9a04-589c2f6af616\n",
      "[I 2024-08-19 11:07:07,078] Trial 0 finished with value: 1545.3190674583593 and parameters: {'lgbm__n_estimators': 77, 'lgbm__max_depth': 17, 'lgbm__min_child_weight': 3, 'lgbm__learning_rate': 0.8447776845585805, 'lgbm__reg_alpha': 0.047188561909725646, 'lgbm__reg_lambda': 1.2156912078311422}. Best is trial 0 with value: 1545.3190674583593.\n",
      "[I 2024-08-19 11:07:07,941] Trial 1 finished with value: 1061.8282633815088 and parameters: {'lgbm__n_estimators': 84, 'lgbm__max_depth': 42, 'lgbm__min_child_weight': 1, 'lgbm__learning_rate': 0.5750975784939557, 'lgbm__reg_alpha': 8.91321954312264, 'lgbm__reg_lambda': 2.092021221171896}. Best is trial 1 with value: 1061.8282633815088.\n"
     ]
    }
   ],
   "source": [
    "sampler = TPESampler(seed=SEED)\n",
    "study = optuna.create_study(sampler=sampler)\n",
    "study.optimize(objective, n_trials=2)"
   ]
  }
 ],
 "metadata": {
  "kernelspec": {
   "display_name": "quant",
   "language": "python",
   "name": "python3"
  },
  "language_info": {
   "codemirror_mode": {
    "name": "ipython",
    "version": 3
   },
   "file_extension": ".py",
   "mimetype": "text/x-python",
   "name": "python",
   "nbconvert_exporter": "python",
   "pygments_lexer": "ipython3",
   "version": "3.10.9"
  }
 },
 "nbformat": 4,
 "nbformat_minor": 2
}
