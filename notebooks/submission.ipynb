{
 "cells": [
  {
   "cell_type": "code",
   "execution_count": 1,
   "metadata": {},
   "outputs": [],
   "source": [
    "import pandas as pd\n",
    "\n",
    "# Machine Learning\n",
    "from sklearn.svm import SVC\n",
    "from sklearn.ensemble import RandomForestClassifier\n",
    "from sklearn.gaussian_process import GaussianProcessClassifier\n",
    "from lightgbm.sklearn import LGBMClassifier\n",
    "\n",
    "SEED = 100\n",
    "\n",
    "train_df = pd.read_parquet(\"../data/sentence_train.pq\")\n",
    "test_df = pd.read_parquet(\"../data/sentence_test.pq\")\n",
    "test_ids = pd.read_csv(\"../data/test.csv\").id # TODO: Temp fix to missing ids, will need to include them from processing\n",
    "\n",
    "X, y = train_df.drop(columns=['target']).to_numpy(), train_df['target'].to_numpy()\n",
    "X_test = test_df.to_numpy()"
   ]
  },
  {
   "cell_type": "code",
   "execution_count": 2,
   "metadata": {},
   "outputs": [],
   "source": [
    "lgbm = LGBMClassifier(verbosity=-1, random_state=SEED)\n",
    "lgbm.fit(X=X, y=y)\n",
    "lgbm_pred = lgbm.predict(X_test)\n",
    "\n",
    "pd.DataFrame(\n",
    "    {\n",
    "        'id': test_ids,\n",
    "        'target': lgbm_pred,\n",
    "    }\n",
    ").to_csv(\"../data/predictions/lgbm_pred.csv\", index=False)"
   ]
  },
  {
   "cell_type": "code",
   "execution_count": 3,
   "metadata": {},
   "outputs": [],
   "source": [
    "rf = RandomForestClassifier(random_state=SEED)\n",
    "rf.fit(X=X, y=y)\n",
    "rf_pred = rf.predict(X_test)\n",
    "pd.DataFrame(\n",
    "    {\n",
    "        'id': test_ids,\n",
    "        'target': rf_pred,\n",
    "    }\n",
    ").to_csv(\"../data/predictions/rf_pred.csv\", index=False)"
   ]
  },
  {
   "cell_type": "code",
   "execution_count": 4,
   "metadata": {},
   "outputs": [],
   "source": [
    "svm = SVC(random_state=SEED)\n",
    "svm.fit(X=X, y=y)\n",
    "svm_pred = svm.predict(X_test)\n",
    "\n",
    "pd.DataFrame(\n",
    "    {\n",
    "        'id': test_ids,\n",
    "        'target': svm_pred,\n",
    "    }\n",
    ").to_csv(\"../data/predictions/svm_pred.csv\", index=False)"
   ]
  },
  {
   "cell_type": "code",
   "execution_count": 5,
   "metadata": {},
   "outputs": [],
   "source": [
    "gpc = GaussianProcessClassifier(random_state=SEED)\n",
    "gpc.fit(X=X, y=y)\n",
    "gpc_pred = gpc.predict(X_test)\n",
    "\n",
    "pd.DataFrame(\n",
    "    {\n",
    "        'id': test_ids,\n",
    "        'target': gpc_pred,\n",
    "    }\n",
    ").to_csv(\"../data/predictions/gpc_pred.csv\", index=False)"
   ]
  }
 ],
 "metadata": {
  "kernelspec": {
   "display_name": "quant",
   "language": "python",
   "name": "python3"
  },
  "language_info": {
   "codemirror_mode": {
    "name": "ipython",
    "version": 3
   },
   "file_extension": ".py",
   "mimetype": "text/x-python",
   "name": "python",
   "nbconvert_exporter": "python",
   "pygments_lexer": "ipython3",
   "version": "3.10.9"
  }
 },
 "nbformat": 4,
 "nbformat_minor": 2
}
